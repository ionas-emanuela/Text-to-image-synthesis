{
  "nbformat": 4,
  "nbformat_minor": 0,
  "metadata": {
    "colab": {
      "name": "Text to Image Synthesis",
      "provenance": [],
      "collapsed_sections": [],
      "machine_shape": "hm",
      "authorship_tag": "ABX9TyOCcQGHA/kOsQJnmSqvumRm",
      "include_colab_link": true
    },
    "kernelspec": {
      "name": "python3",
      "display_name": "Python 3"
    },
    "accelerator": "GPU"
  },
  "cells": [
    {
      "cell_type": "markdown",
      "metadata": {
        "id": "view-in-github",
        "colab_type": "text"
      },
      "source": [
        "<a href=\"https://colab.research.google.com/github/ionas-emanuela/Text-to-image-synthesis/blob/master/Text_to_Image_Synthesis.ipynb\" target=\"_parent\"><img src=\"https://colab.research.google.com/assets/colab-badge.svg\" alt=\"Open In Colab\"/></a>"
      ]
    },
    {
      "cell_type": "code",
      "metadata": {
        "id": "sPTkHQ-ma8ak",
        "colab_type": "code",
        "colab": {}
      },
      "source": [
        "!pip install torch===1.2.0 torchvision===0.4.0 -f https://download.pytorch.org/whl/torch_stable.html\n",
        "!pip3 install torchvision\n",
        "!pip install tensorboardX"
      ],
      "execution_count": 0,
      "outputs": []
    },
    {
      "cell_type": "code",
      "metadata": {
        "id": "NITN6j-vqu2I",
        "colab_type": "code",
        "colab": {}
      },
      "source": [
        "!pip install image"
      ],
      "execution_count": 0,
      "outputs": []
    },
    {
      "cell_type": "code",
      "metadata": {
        "id": "FfXa9AxzolLf",
        "colab_type": "code",
        "colab": {}
      },
      "source": [
        "!pip install utils"
      ],
      "execution_count": 0,
      "outputs": []
    },
    {
      "cell_type": "markdown",
      "metadata": {
        "id": "Vp5f8K4Zemq-",
        "colab_type": "text"
      },
      "source": [
        "All the necessary imports are here"
      ]
    },
    {
      "cell_type": "code",
      "metadata": {
        "id": "PjPlq0qvzEQJ",
        "colab_type": "code",
        "colab": {}
      },
      "source": [
        "import tensorflow as tf"
      ],
      "execution_count": 0,
      "outputs": []
    },
    {
      "cell_type": "code",
      "metadata": {
        "id": "Tl3lKMrjefYX",
        "colab_type": "code",
        "colab": {}
      },
      "source": [
        "import torch\n",
        "import torchvision\n",
        "from torch import nn, optim\n",
        "from torch.autograd.variable import Variable\n",
        "from torchvision import transforms, datasets\n",
        "from torch.utils.data import DataLoader\n",
        "import os\n",
        "import numpy as np\n",
        "import pandas as pd\n",
        "import errno\n",
        "import torchvision.utils as vutils\n",
        "from tensorboardX import SummaryWriter\n",
        "from IPython import display\n",
        "import PIL.Image as Image\n",
        "from matplotlib import pyplot as plt\n",
        "import utils\n",
        "\n",
        "import random\n",
        "\n",
        "from numpy import expand_dims\n",
        "from numpy import zeros\n",
        "from numpy import ones\n",
        "from numpy import asarray\n",
        "from numpy.random import randn\n",
        "from numpy.random import randint\n",
        "from keras.datasets.fashion_mnist import load_data\n",
        "from keras.optimizers import Adam\n",
        "from keras.models import Model\n",
        "from keras.models import load_model\n",
        "from keras.layers import Input\n",
        "from keras.layers import Dense\n",
        "from keras.layers import Reshape\n",
        "from keras.layers import Flatten\n",
        "from keras.layers import Conv2D\n",
        "from keras.layers import Conv2DTranspose\n",
        "from keras.layers import LeakyReLU\n",
        "from keras.layers import Dropout\n",
        "from keras.layers import Embedding\n",
        "from keras.layers import Concatenate\n",
        "from matplotlib import pyplot"
      ],
      "execution_count": 0,
      "outputs": []
    },
    {
      "cell_type": "markdown",
      "metadata": {
        "id": "3sJJAfCZbNAo",
        "colab_type": "text"
      },
      "source": [
        "Install the necessary libraries for connecting to google drive.\n"
      ]
    },
    {
      "cell_type": "code",
      "metadata": {
        "id": "lAd6XC23bKGf",
        "colab_type": "code",
        "colab": {}
      },
      "source": [
        "!pip install -U -q PyDrive\n",
        "from pydrive.auth import GoogleAuth\n",
        "from pydrive.drive import GoogleDrive\n",
        "from google.colab import auth\n",
        "from oauth2client.client import GoogleCredentials"
      ],
      "execution_count": 0,
      "outputs": []
    },
    {
      "cell_type": "code",
      "metadata": {
        "id": "Z_fZ7ZgkbLHy",
        "colab_type": "code",
        "colab": {}
      },
      "source": [
        "auth.authenticate_user()\n",
        "gauth = GoogleAuth()\n",
        "gauth.credentials = GoogleCredentials.get_application_default()\n",
        "drive = GoogleDrive(gauth)"
      ],
      "execution_count": 0,
      "outputs": []
    },
    {
      "cell_type": "markdown",
      "metadata": {
        "id": "a_n26L_AbvXe",
        "colab_type": "text"
      },
      "source": [
        "The attributes are taken from here [list_attr_celeba.txt](https://drive.google.com/open?id=0B7EVK8r0v71pblRyaVFSWGxPY0U).\n",
        "They are presented as a table of 41 x 202599. The columns are the image_id + attributes and each row has a value of 1 or -1 (if the attribute is found or not in the image).\n",
        "\n",
        "---\n",
        "\n",
        "The attributes are the following (in this exact order) : ['image_id', '5_o_Clock_Shadow', 'Arched_Eyebrows', 'Attractive', 'Bags_Under_Eyes', 'Bald', 'Bangs', 'Big_Lips', 'Big_Nose', 'Black_Hair', 'Blond_Hair', 'Blurry', 'Brown_Hair', 'Bushy_Eyebrows', 'Chubby', 'Double_Chin', 'Eyeglasses', 'Goatee', 'Gray_Hair', 'Heavy_Makeup', 'High_Cheekbones', 'Male', 'Mouth_Slightly_Open','Mustache', 'Narrow_Eyes', 'No_Beard', 'Oval_Face', 'Pale_Skin', 'Pointy_Nose', 'Receding_Hairline', 'Rosy_Cheeks', 'Sideburns', 'Smiling', 'Straight_Hair', 'Wavy_Hair', 'Wearing_Earrings', 'Wearing_Hat', 'Wearing_Lipstick', 'Wearing_Necklace', 'Wearing_Necktie', 'Young']\n",
        "\n",
        "---\n",
        "\n",
        "Note that these values are saved in a DataFrame, so the indexing is done using .loc['image_id'], this will retrieve the row of data corresponding to a certain image.\n",
        "\n",
        "---\n",
        "The one-hot encoding vector obtained from the textual input is stored in a DataFrame of 40 x 1, the only occupied row being row 0.\n"
      ]
    },
    {
      "cell_type": "code",
      "metadata": {
        "id": "AVgZHLgtbq0e",
        "colab_type": "code",
        "colab": {}
      },
      "source": [
        "def get_annotation():\n",
        "  downloaded = drive.CreateFile({'id':'0B7EVK8r0v71pblRyaVFSWGxPY0U'})\n",
        "  downloaded.GetContentFile('list_attr_celeba.txt')\n",
        "  rfile = open('list_attr_celeba.txt', 'r')\n",
        "  texts = rfile.read().split(\"\\n\")\n",
        "  rfile.close()\n",
        "\n",
        "  columns = np.array(texts[1].split(\" \"))\n",
        "  columns = columns[columns != \"\"]\n",
        "  df = []\n",
        "  for txt in texts[2:]:\n",
        "      txt = np.array(txt.split(\" \"))\n",
        "      txt = txt[txt!= \"\"]\n",
        "      df.append(txt)\n",
        "        \n",
        "  df = pd.DataFrame(df)\n",
        "  ui = pd.DataFrame(columns = columns)\n",
        "\n",
        "  if df.shape[1] == len(columns) + 1:\n",
        "     columns = [\"image_id\"]+ list(columns)\n",
        "  df.columns = columns  \n",
        "  df = df.dropna()\n",
        "\n",
        "  ## cast to integer\n",
        "  for nm in df.columns:\n",
        "      if nm != \"image_id\":\n",
        "          df[nm] = pd.to_numeric(df[nm],downcast=\"integer\")\n",
        "  return(df, ui)\n",
        "\n",
        "attributes, user_input = get_annotation()\n",
        "#print(attributes)\n",
        "#print(attributes['image_id'][0])"
      ],
      "execution_count": 0,
      "outputs": []
    },
    {
      "cell_type": "markdown",
      "metadata": {
        "id": "rRE7bQl0hGqw",
        "colab_type": "text"
      },
      "source": [
        "The images are taken from the website presented below. The data is stored in a list of size 202599. \n"
      ]
    },
    {
      "cell_type": "code",
      "metadata": {
        "id": "6fgTKsnJhSe9",
        "colab_type": "code",
        "colab": {}
      },
      "source": [
        "!mkdir data_faces && wget https://s3-us-west-1.amazonaws.com/udacity-dlnfd/datasets/celeba.zip "
      ],
      "execution_count": 0,
      "outputs": []
    },
    {
      "cell_type": "code",
      "metadata": {
        "id": "UGrGeYkFitcj",
        "colab_type": "code",
        "colab": {}
      },
      "source": [
        "import zipfile\n",
        "\n",
        "with zipfile.ZipFile(\"celeba.zip\",\"r\") as zip_ref:\n",
        "  zip_ref.extractall(\"data_faces/\")\n",
        "\n",
        "root = 'data_faces/img_align_celeba'\n",
        "img_list = os.listdir(root)\n"
      ],
      "execution_count": 0,
      "outputs": []
    },
    {
      "cell_type": "markdown",
      "metadata": {
        "id": "ub-nQht7vAxC",
        "colab_type": "text"
      },
      "source": [
        "The images are then cropped and resized to 64x64"
      ]
    },
    {
      "cell_type": "code",
      "metadata": {
        "id": "T1smkyXyq7CW",
        "colab_type": "code",
        "colab": {}
      },
      "source": [
        "crop_size = 108\n",
        "re_size = 64\n",
        "offset_height = (238 - crop_size) // 2  #floor division\n",
        "offset_width = (178 - crop_size) // 2\n",
        "crop = lambda x: x[:, offset_height:offset_height + crop_size, offset_width:offset_width + crop_size]\n",
        "\n",
        "transform = transforms.Compose(\n",
        "    [transforms.ToTensor(),\n",
        "     transforms.Lambda(crop),\n",
        "     transforms.ToPILImage(),\n",
        "     transforms.Resize((re_size, re_size), interpolation=Image.BICUBIC),\n",
        "     transforms.ToTensor(),\n",
        "     transforms.Normalize(mean = [0.5]*3, std = [0.5]*3)\n",
        "     ])\n",
        "\n",
        "batch_size = 10\n",
        "celeba_data = datasets.ImageFolder('./data_faces', transform=transform)\n",
        "data_loader = DataLoader(celeba_data, batch_size = batch_size, shuffle = False)\n",
        "\n",
        "path, ceva = celeba_data.imgs[1]"
      ],
      "execution_count": 0,
      "outputs": []
    },
    {
      "cell_type": "code",
      "metadata": {
        "id": "m0m8MGXJue27",
        "colab_type": "code",
        "colab": {}
      },
      "source": [
        "batch_it = iter(data_loader)\n",
        "\n",
        "database_size = 1000\n",
        "\n",
        "#batch, _ = next(batch_it)\n",
        "#show(next(batch_it), renorm = True, nrow = 4)\n",
        "#batch, _ = next(batch_it)\n",
        "#show(batch[0:3], renorm = True, nrow = 4)"
      ],
      "execution_count": 0,
      "outputs": []
    },
    {
      "cell_type": "markdown",
      "metadata": {
        "id": "Egt9O2xdoZ5p",
        "colab_type": "text"
      },
      "source": [
        "A class that holds all data regarding images (image, attributes and label). These are stored in three dictionaries: one for label-attributes, one for label-image and one for index-label. The index is needed in order to ensure that the values are correctly selected during the training process."
      ]
    },
    {
      "cell_type": "code",
      "metadata": {
        "id": "ScoO_2FDoNEN",
        "colab_type": "code",
        "colab": {}
      },
      "source": [
        "class ImageDictionary():\n",
        "  def __init__(self):\n",
        "    self.attributes = dict()\n",
        "    self.images = dict()\n",
        "    self.labels = dict()\n",
        "  \n",
        "  def addAttributes(self, key, attribute):\n",
        "    self.attributes[key] = attribute\n",
        "\n",
        "  def addImage(self, key, image):\n",
        "    #print('whyyy but with image ')\n",
        "    #print(image)\n",
        "    #print(key)\n",
        "    self.images[key] = image\n",
        "\n",
        "  def addLabel(self, key, label):\n",
        "    self.labels[key] = label\n",
        "\n",
        "  def getAttributes(self, key):\n",
        "    return self.attributes[key]\n",
        "\n",
        "  def getImage(self, key):\n",
        "    return self.images[key]\n",
        "\n",
        "  def getLabel(self, key):\n",
        "    return self.labels[key]\n",
        "\n",
        "  def printLabelDictionary(self):\n",
        "    print(\"index - label\")\n",
        "    for x, y in self.labels.items():\n",
        "      print(x, y)\n"
      ],
      "execution_count": 0,
      "outputs": []
    },
    {
      "cell_type": "markdown",
      "metadata": {
        "id": "45l4uc-H8OsI",
        "colab_type": "text"
      },
      "source": [
        "A method for initializing the dictionary that will hold all attributes.\n",
        "This has to be done before the images are added since the attributes are taken from the database one time (first thing when the program is run). The images will be added later, in batches."
      ]
    },
    {
      "cell_type": "code",
      "metadata": {
        "id": "hTkOt4fN8Zmv",
        "colab_type": "code",
        "colab": {}
      },
      "source": [
        "dictionary = ImageDictionary()\n",
        "\n",
        "for i in range(0, database_size):\n",
        "  attributes_list = [1]*40\n",
        "  label = attributes['image_id'][i]\n",
        "  #print(label)\n",
        "  attributes_list[0] = attributes['5_o_Clock_Shadow'][i]\n",
        "  attributes_list[1] = attributes['Arched_Eyebrows'][i]\n",
        "  attributes_list[2] = attributes['Attractive'][i]\n",
        "  attributes_list[3] = attributes['Bags_Under_Eyes'][i]\n",
        "  attributes_list[4] = attributes['Bald'][i]\n",
        "  attributes_list[5] = attributes['Bangs'][i]\n",
        "  attributes_list[6] = attributes['Big_Lips'][i]\n",
        "  attributes_list[7] = attributes['Big_Nose'][i]\n",
        "  attributes_list[8] = attributes['Black_Hair'][i]\n",
        "  attributes_list[9] = attributes['Blond_Hair'][i]\n",
        "  attributes_list[10] = attributes['Blurry'][i]\n",
        "  attributes_list[11] = attributes['Brown_Hair'][i]\n",
        "  attributes_list[12] = attributes['Bushy_Eyebrows'][i]\n",
        "  attributes_list[13] = attributes['Chubby'][i]\n",
        "  attributes_list[14] = attributes['Double_Chin'][i]\n",
        "  attributes_list[15] = attributes['Eyeglasses'][i]\n",
        "  attributes_list[16] = attributes['Goatee'][i]\n",
        "  attributes_list[17] = attributes['Gray_Hair'][i]\n",
        "  attributes_list[18] = attributes['Heavy_Makeup'][i]\n",
        "  attributes_list[19] = attributes['High_Cheekbones'][i]\n",
        "  attributes_list[20] = attributes['Male'][i]\n",
        "  attributes_list[21] = attributes['Mouth_Slightly_Open'][i]\n",
        "  attributes_list[22] = attributes['Mustache'][i]\n",
        "  attributes_list[23] = attributes['Narrow_Eyes'][i]\n",
        "  attributes_list[24] = attributes['No_Beard'][i]\n",
        "  attributes_list[25] = attributes['Oval_Face'][i]\n",
        "  attributes_list[26] = attributes['Pale_Skin'][i]\n",
        "  attributes_list[27] = attributes['Pointy_Nose'][i]\n",
        "  attributes_list[28] = attributes['Receding_Hairline'][i]\n",
        "  attributes_list[29] = attributes['Rosy_Cheeks'][i]\n",
        "  attributes_list[30] = attributes['Sideburns'][i]\n",
        "  attributes_list[31] = attributes['Smiling'][i]\n",
        "  attributes_list[32] = attributes['Straight_Hair'][i]\n",
        "  attributes_list[33] = attributes['Wavy_Hair'][i]\n",
        "  attributes_list[34] = attributes['Wearing_Earrings'][i]\n",
        "  attributes_list[35] = attributes['Wearing_Hat'][i]\n",
        "  attributes_list[36] = attributes['Wearing_Lipstick'][i]\n",
        "  attributes_list[37] = attributes['Wearing_Necklace'][i]\n",
        "  attributes_list[38] = attributes['Wearing_Necktie'][i]\n",
        "  attributes_list[39] = attributes['Young'][i]\n",
        "  dictionary.addAttributes(label, attributes_list)\n"
      ],
      "execution_count": 0,
      "outputs": []
    },
    {
      "cell_type": "markdown",
      "metadata": {
        "id": "zRrq76RbD1hE",
        "colab_type": "text"
      },
      "source": [
        "This code adds the images to the dictionary.\n",
        "The images are added in batches of 10, hence the index formula **10*iteration + i** , where iteration is the training iteration (the index of the current batch in the original dataset)."
      ]
    },
    {
      "cell_type": "code",
      "metadata": {
        "id": "_G2NbA6Wo1uD",
        "colab_type": "code",
        "colab": {}
      },
      "source": [
        "def initialize_data(data, iteration):\n",
        "  for i in range(0, len(data)):\n",
        "    path, _ = celeba_data.imgs[10*iteration + i]\n",
        "    label = path[-10:]\n",
        "    dictionary.addImage(label, data[i])\n",
        "    dictionary.addLabel(10*iteration + i, label)\n",
        "    #print('initialize_data label ' + label)\n",
        "    #show(batch[i], renorm = True, nrow = 4)\n",
        "  #image_data = ImageData(image_dictionary, attributes)\n",
        "  #list_attr = image_data.get_corresponding_attributes('000001.jpg')\n",
        "  #print(list_attr.loc[0])\n",
        "  #return image_dictionary"
      ],
      "execution_count": 0,
      "outputs": []
    },
    {
      "cell_type": "markdown",
      "metadata": {
        "id": "ogV6r15Z8UkK",
        "colab_type": "text"
      },
      "source": [
        "The Discriminator is based on the structure in the image:\n",
        "![alt text](https://i.stack.imgur.com/JH24l.png)\n",
        "\n",
        " and this article on [cGANs](https://machinelearningmastery.com/how-to-develop-a-conditional-generative-adversarial-network-from-scratch/)\n",
        "\n",
        "![Discriminator](https://3qeqpr26caki16dnhd19sv6by6v-wpengine.netdna-ssl.com/wp-content/uploads/2019/05/Plot-of-the-Discriminator-Model-in-the-Conditional-Generative-Adversarial-Network-664x1024.png)\n"
      ]
    },
    {
      "cell_type": "markdown",
      "metadata": {
        "id": "E38uKpbIWR-R",
        "colab_type": "text"
      },
      "source": [
        "nn.Conv2d:\n",
        "<br>\n",
        "\n",
        "\n",
        "*   in_channel -> equal to the number of neurons in the previous layer. Initial value is the number of channels of the image (in this case, 3 - coloured image)\n",
        "*   out_channel -> the number of important attributes we want to find\n",
        "*   kernel_size -> size of filter\n",
        "*   stride, padding ( (kernel_size - 1)/2 )\n",
        "\n",
        "\n",
        "Relu -> activation function (the neuron is fired or not)\n",
        "\n",
        "\n",
        "\n"
      ]
    },
    {
      "cell_type": "markdown",
      "metadata": {
        "id": "uGTsSJLjHDbJ",
        "colab_type": "text"
      },
      "source": [
        "nn.BCELoss() -> Binary Cross Entropy (we need a sigmoid layer in the \n",
        "network) - output belongs to [0,1]\n",
        "<br>\n",
        "Cross-entropy quantifies the difference between two probability distributions.\n",
        "<br>\n",
        "nn.MSELoss() -> Mean Squared Error (input and output have to have the same size and be float)\n",
        "<br>\n",
        "nn.L1Loss() -> Mean Absolute Error (input and output have to have the same size and be float)\n",
        "\n",
        "\n",
        "Taken from [Pytorch basics - intro to dataloaders and loss functions](https://towardsdatascience.com/pytorch-basics-intro-to-dataloaders-and-loss-functions-868e86450047)"
      ]
    },
    {
      "cell_type": "code",
      "metadata": {
        "id": "IJcWsOyk8U8T",
        "colab_type": "code",
        "colab": {}
      },
      "source": [
        "def create_discriminator(in_shape=(64,64,3), n_attributes=40):\n",
        "  \n",
        "  #input layer (from the image)\n",
        "  in_attribute = Input(shape=(40,))\n",
        "\n",
        "  #print(\"discriminator\")\n",
        "  #print(in_attribute.shape)\n",
        "\n",
        "  #embedding\n",
        "  in_attribute_embedding = Embedding(n_attributes, 67)(in_attribute)\n",
        "  #dense - scale up to image dimensions (40,64*64*3)\n",
        "\n",
        "  #print(\"discriminator\")\n",
        "  #print(in_attribute_embedding.shape)\n",
        "\n",
        "  number_nodes = in_shape[0]*in_shape[1]\n",
        "  in_attribute_embedding = Dense(number_nodes)(in_attribute_embedding)\n",
        "  #print(\"discriminator\")\n",
        "  #print(in_attribute_embedding.shape)\n",
        "\n",
        "  #reshape - (3,64,64)\n",
        "  in_attribute_embedding = Reshape((in_shape[0], in_shape[1], 40))(in_attribute_embedding)\n",
        "\n",
        "  #add the input image\n",
        "  in_image = Input(shape=in_shape)\n",
        "  \n",
        "  #concatenation step -> will add a new channel to the image\n",
        "  merged = Concatenate()([in_image, in_attribute_embedding])\n",
        "\n",
        "  #print(\"discriminator\")\n",
        "  #print(merged.shape)\n",
        "\n",
        "  #1st layer\n",
        "  #conv2D -> downsample from (64,64,4) to (32,32,256)\n",
        "  downsampled_image = Conv2D(128, (3,3), strides=(2,2), padding='same')(merged)\n",
        "  downsampled_image = LeakyReLU(alpha=0.2)(downsampled_image)\n",
        "\n",
        "  #print(\"layer 1\")\n",
        "  #print(downsampled_image.shape)\n",
        "\n",
        "  #2nd layer\n",
        "  #conv2D -> downsample from (32,32,256) to (16,16,256)\n",
        "  downsampled_image = Conv2D(128, (3,3), strides=(2,2), padding='same')(downsampled_image)\n",
        "  downsampled_image = LeakyReLU(alpha=0.2)(downsampled_image)\n",
        "\n",
        "  #print(\"layer 2\")\n",
        "  #print(downsampled_image.shape)\n",
        "\n",
        "  #3rd layer\n",
        "  #conv2D -> downsample from (16,16,256) to (8,8,256)\n",
        "  downsampled_image = Conv2D(128, (3,3), strides=(2,2), padding='same')(downsampled_image)\n",
        "  downsampled_image = LeakyReLU(alpha=0.2)(downsampled_image)\n",
        "\n",
        "\n",
        "  #print(\"layer 3\")\n",
        "  #print(downsampled_image.shape)\n",
        "\n",
        "  #flatten to (8*8*128)\n",
        "  flattened_image = Flatten()(downsampled_image)\n",
        "\n",
        "  #print(\"flattened\")\n",
        "  #print(flattened_image.shape)\n",
        "\n",
        "  #dropout -> no change -> remove unnecesarry nodes\n",
        "  flattened_image = Dropout(0.4)(flattened_image)\n",
        "\n",
        "  #dense -> output layer\n",
        "  out_layer = Dense(1, activation='sigmoid')(flattened_image)\n",
        "\n",
        "  #print(\"flattened\")\n",
        "  #print(out_layer.shape)\n",
        "\n",
        "  #build the model -> add optimizer, loss function and metric\n",
        "  model = Model([in_image, in_attribute], out_layer)\n",
        "\n",
        "  #print(\"!!!!!!!!!!!!!\")\n",
        "\n",
        "  opt = Adam(lr=0.0002, beta_1=0.5)\n",
        "  model.compile(loss='binary_crossentropy', optimizer=opt, metrics=['accuracy'])\n",
        "  #print(\"?????????\")\n",
        "  return model"
      ],
      "execution_count": 0,
      "outputs": []
    },
    {
      "cell_type": "markdown",
      "metadata": {
        "id": "WW7Gxl-81S-_",
        "colab_type": "text"
      },
      "source": [
        "The Grenerator was inspired by the same paper as the Discriminator\n",
        "\n",
        "![Generator](https://3qeqpr26caki16dnhd19sv6by6v-wpengine.netdna-ssl.com/wp-content/uploads/2019/05/Plot-of-the-Generator-Model-in-the-Conditional-Generative-Adversarial-Network-806x1024.png)"
      ]
    },
    {
      "cell_type": "code",
      "metadata": {
        "id": "LZpxJL_d1jqf",
        "colab_type": "code",
        "colab": {}
      },
      "source": [
        "def create_generator(latent_dimension, n_attributes=40):\n",
        "  #input layer (from the image)\n",
        "  in_attribute = Input(shape=(40,))\n",
        "  #embedding\n",
        "  in_attribute_embedded = Embedding(n_attributes, 67)(in_attribute)\n",
        "  \n",
        "  #linear_multiplication\n",
        "  number_nodes = 8*8\n",
        "  in_attribute_embedded = Dense(number_nodes)(in_attribute_embedded)\n",
        "\n",
        "  #print(in_attribute_embedded.shape)\n",
        "\n",
        "  #reshape to (8,8,3)\n",
        "  in_attribute_embedded = Reshape((8,8,40))(in_attribute_embedded)\n",
        "\n",
        "  #print(in_attribute_embedded.shape)\n",
        "\n",
        "  #generator input\n",
        "  in_lat = Input(shape=(latent_dimension,))\n",
        "\n",
        "  #print(in_lat.shape)\n",
        "\n",
        "  #8x8 image\n",
        "  number_nodes = 8*8*128\n",
        "  gen = Dense(number_nodes)(in_lat)\n",
        "  gen = LeakyReLU(alpha=0.2)(gen)\n",
        "  gen = Reshape((8,8,128))(gen)\n",
        "\n",
        "  #print(in_attribute_embedded.shape)\n",
        "  #print(gen.shape)\n",
        "\n",
        "  #merge image gen and input attribute\n",
        "  merge = Concatenate()([gen, in_attribute_embedded])\n",
        "\n",
        "  #print(\"merge\")\n",
        "  #print(merge.shape)\n",
        "\n",
        "  #upsample to (16,16)\n",
        "  gen = Conv2DTranspose(128, (4,4), strides=(2,2), padding='same')(merge)\n",
        "  gen = LeakyReLU(alpha=0.2)(gen)\n",
        "\n",
        "  #upsample to (32,32)\n",
        "  gen = Conv2DTranspose(128, (4,4), strides=(2,2), padding='same')(gen)\n",
        "  gen = LeakyReLU(alpha=0.2)(gen)\n",
        " \n",
        "  #upsample to (64,64)\n",
        "  gen = Conv2DTranspose(128, (4,4), strides=(2,2), padding='same')(gen)\n",
        "  gen = LeakyReLU(alpha=0.2)(gen)\n",
        " \n",
        "  #output layer\n",
        "  out_layer = Conv2D(3, (8,8), activation='tanh', padding='same')(gen)\n",
        " \n",
        "  #model\n",
        "  model = Model([in_lat, in_attribute], out_layer)\n",
        "  return model\n",
        "\n"
      ],
      "execution_count": 0,
      "outputs": []
    },
    {
      "cell_type": "code",
      "metadata": {
        "id": "EKLd5QKFH6Jy",
        "colab_type": "code",
        "colab": {}
      },
      "source": [
        "def create_gan(generator_model, discriminator_model):\n",
        "  discriminator_model.trainable = False\n",
        "  generator_noise, generator_attributes = generator_model.input\n",
        "  generator_output = generator_model.output\n",
        "\n",
        "  #print(\"gan\")\n",
        "  #print(generator_output.shape)\n",
        "\n",
        "  gan_output = discriminator_model([generator_output, generator_attributes])\n",
        "\n",
        "  model = Model([generator_noise, generator_attributes], gan_output)\n",
        "\n",
        "  opt = Adam(lr=0.0002, beta_1=0.5)\n",
        "  model.compile(loss='binary_crossentropy', optimizer=opt)\n",
        "  return model"
      ],
      "execution_count": 0,
      "outputs": []
    },
    {
      "cell_type": "code",
      "metadata": {
        "id": "GmdWH5iJCf5D",
        "colab_type": "code",
        "colab": {}
      },
      "source": [
        "def load_real_data():\n",
        "  \n",
        "  for i in range(0, int(database_size/10)):\n",
        "    batch, _ = next(batch_it)\n",
        "    initialize_data(batch, i)\n"
      ],
      "execution_count": 0,
      "outputs": []
    },
    {
      "cell_type": "code",
      "metadata": {
        "id": "_PEx3Nj2AL2Z",
        "colab_type": "code",
        "colab": {}
      },
      "source": [
        "def generate_real_samples(db_size, number_samples):\n",
        "  images = []\n",
        "  attributes_list = []\n",
        "  \n",
        "  for i in range(0, number_samples):\n",
        "    label = dictionary.getLabel(random.randint(0, db_size - 1))\n",
        "    images.append(dictionary.getImage(label))\n",
        "    attributes_list.append(dictionary.getAttributes(label))\n",
        "\n",
        "\n",
        "  y = ones((number_samples, 1))\n",
        "\n",
        "  return [images, attributes_list], y\n"
      ],
      "execution_count": 0,
      "outputs": []
    },
    {
      "cell_type": "markdown",
      "metadata": {
        "id": "0NzIwxaVFTXx",
        "colab_type": "text"
      },
      "source": [
        "generate points in latent space and reshape them into a batch of inputs for the network"
      ]
    },
    {
      "cell_type": "code",
      "metadata": {
        "id": "XXdBh_8ED5Vq",
        "colab_type": "code",
        "colab": {}
      },
      "source": [
        "def generate_random_attribute_list(number_samples):\n",
        "  attributes_list = []\n",
        "  for i in range(0, number_samples):\n",
        "    attributes = []\n",
        "\n",
        "    for j in range(0, 40):\n",
        "      attributes.append(random.choice([-1,1]))\n",
        "\n",
        "    attributes_list.append(attributes)\n",
        "  \n",
        "  return attributes_list\n",
        "\n",
        "def generate_noise(latent_dim, number_samples, n_classes = 40):\n",
        "  #print(latent_dim)\n",
        "  x_input = randn(latent_dim * number_samples)\n",
        "  z_input = x_input.reshape(number_samples, latent_dim)\n",
        "  attributes = generate_random_attribute_list(number_samples)\n",
        "\n",
        "  return [z_input, attributes]\n"
      ],
      "execution_count": 0,
      "outputs": []
    },
    {
      "cell_type": "code",
      "metadata": {
        "id": "Wa00h4909vCP",
        "colab_type": "code",
        "colab": {}
      },
      "source": [
        "def generate_fake_data(generator, latent_dim, number_samples):\n",
        "  z_input, attribute_input = generate_noise(latent_dim, number_samples)\n",
        "  #print(\"generate_fake_data\")\n",
        "  #print(z_input.shape)\n",
        "  #print(np.array(attribute_input).shape)\n",
        "  images = generator.predict([np.array(z_input), np.array(attribute_input)])\n",
        "\n",
        "  y = zeros((number_samples, 1))\n",
        "  return [images, attribute_input], y"
      ],
      "execution_count": 0,
      "outputs": []
    },
    {
      "cell_type": "code",
      "metadata": {
        "id": "4e7G9dO9-bWa",
        "colab_type": "code",
        "colab": {}
      },
      "source": [
        "def train(generator_model, discriminator_model, gan_model, \n",
        "          latent_dim, number_epochs = 100, number_batch = 256):\n",
        "  \n",
        "  batches_per_epoch = int(database_size / number_batch)\n",
        "  half_batch = int(number_batch / 2)\n",
        "\n",
        "  for epoch in range(number_epochs):\n",
        "    for batch_index in range(batches_per_epoch):\n",
        "\n",
        "      #print(\"aici\")\n",
        "\n",
        "      #get real data\n",
        "      [x_real, attributes_real], y_real = generate_real_samples(database_size, half_batch)\n",
        "\n",
        "      #print(\"aici 2\")\n",
        "\n",
        "      x_real_tensors_swapped = [tf.transpose(x, [1, 2, 0]) for x in x_real]\n",
        "      x_real_array = [x.numpy() for x in x_real_tensors_swapped]\n",
        "\n",
        "      #print(x_real_array[0].shape)\n",
        "      #print(np.array(attributes_real).shape)\n",
        "      #print(np.array(y_real).shape)\n",
        "\n",
        "      d_loss1, _ = discriminator_model.train_on_batch([x_real_array, attributes_real], y_real)\n",
        "\n",
        "      #print(\"aici 3\")\n",
        "      #print(latent_dim)\n",
        "\n",
        "      #get fake data\n",
        "      [x_fake, attributes], y_fake = generate_fake_data(generator_model, latent_dim, half_batch)\n",
        "\n",
        "      #print(\"aici 4\")\n",
        "\n",
        "      d_loss2, _ = discriminator_model.train_on_batch([np.array(x_fake), np.array(attributes)], np.array(y_fake))\n",
        "\n",
        "      #get noise\n",
        "      [z_input, attributes_input] = generate_noise(latent_dim, number_batch)\n",
        "\n",
        "      y_gan = ones((number_batch, 1))\n",
        "\n",
        "      g_loss = gan_model.train_on_batch([np.array(z_input), np.array(attributes_input)], np.array(y_gan))\n",
        "\n",
        "      #summarise loss on this batch\n",
        "      print('> epoch: %d, (batch_index/batches_per_epoch): %d/%d, d1=%.3f, d2=%.3f g=%.3f' % \n",
        "            (epoch + 1, batch_index, batches_per_epoch, d_loss1, d_loss2, g_loss))\n",
        "  generator_model.save('cgan_generator.h5')\n"
      ],
      "execution_count": 0,
      "outputs": []
    },
    {
      "cell_type": "code",
      "metadata": {
        "id": "SDwgu0OAHmqn",
        "colab_type": "code",
        "outputId": "af4da5a9-b5ad-42a2-d703-781e81f38475",
        "colab": {
          "base_uri": "https://localhost:8080/",
          "height": 1000
        }
      },
      "source": [
        "latent_dim = 100\n",
        "\n",
        "discriminator_model = create_discriminator()\n",
        "generator_model = create_generator(latent_dim)\n",
        "gan_model = create_gan(generator_model, discriminator_model)\n",
        "\n",
        "dataset = load_real_data()\n",
        "\n",
        "train(generator_model, discriminator_model, gan_model, latent_dim)"
      ],
      "execution_count": 28,
      "outputs": [
        {
          "output_type": "stream",
          "text": [
            "/usr/local/lib/python3.6/dist-packages/keras/engine/training.py:297: UserWarning: Discrepancy between trainable weights and collected trainable weights, did you set `model.trainable` without calling `model.compile` after ?\n",
            "  'Discrepancy between trainable weights and collected trainable'\n",
            "/usr/local/lib/python3.6/dist-packages/tensorflow/python/framework/indexed_slices.py:434: UserWarning: Converting sparse IndexedSlices to a dense Tensor of unknown shape. This may consume a large amount of memory.\n",
            "  \"Converting sparse IndexedSlices to a dense Tensor of unknown shape. \"\n"
          ],
          "name": "stderr"
        },
        {
          "output_type": "stream",
          "text": [
            "> epoch: 1, (batch_index/batches_per_epoch): 0/3, d1=0.731, d2=0.696 g=0.693\n",
            "> epoch: 1, (batch_index/batches_per_epoch): 1/3, d1=0.617, d2=0.697 g=0.692\n",
            "> epoch: 1, (batch_index/batches_per_epoch): 2/3, d1=0.522, d2=0.700 g=0.689\n",
            "> epoch: 2, (batch_index/batches_per_epoch): 0/3, d1=0.430, d2=0.709 g=0.681\n",
            "> epoch: 2, (batch_index/batches_per_epoch): 1/3, d1=0.326, d2=0.731 g=0.663\n",
            "> epoch: 2, (batch_index/batches_per_epoch): 2/3, d1=0.220, d2=0.777 g=0.634\n",
            "> epoch: 3, (batch_index/batches_per_epoch): 0/3, d1=0.168, d2=0.847 g=0.608\n",
            "> epoch: 3, (batch_index/batches_per_epoch): 1/3, d1=0.143, d2=0.900 g=0.607\n",
            "> epoch: 3, (batch_index/batches_per_epoch): 2/3, d1=0.143, d2=0.878 g=0.661\n",
            "> epoch: 4, (batch_index/batches_per_epoch): 0/3, d1=0.140, d2=0.764 g=0.785\n",
            "> epoch: 4, (batch_index/batches_per_epoch): 1/3, d1=0.146, d2=0.624 g=0.981\n",
            "> epoch: 4, (batch_index/batches_per_epoch): 2/3, d1=0.127, d2=0.498 g=1.179\n",
            "> epoch: 5, (batch_index/batches_per_epoch): 0/3, d1=0.137, d2=0.454 g=1.236\n",
            "> epoch: 5, (batch_index/batches_per_epoch): 1/3, d1=0.110, d2=0.451 g=1.139\n",
            "> epoch: 5, (batch_index/batches_per_epoch): 2/3, d1=0.104, d2=0.494 g=1.013\n",
            "> epoch: 6, (batch_index/batches_per_epoch): 0/3, d1=0.088, d2=0.525 g=0.940\n",
            "> epoch: 6, (batch_index/batches_per_epoch): 1/3, d1=0.050, d2=0.536 g=0.920\n",
            "> epoch: 6, (batch_index/batches_per_epoch): 2/3, d1=0.032, d2=0.533 g=0.922\n",
            "> epoch: 7, (batch_index/batches_per_epoch): 0/3, d1=0.040, d2=0.522 g=0.947\n",
            "> epoch: 7, (batch_index/batches_per_epoch): 1/3, d1=0.028, d2=0.503 g=0.984\n",
            "> epoch: 7, (batch_index/batches_per_epoch): 2/3, d1=0.025, d2=0.485 g=1.042\n",
            "> epoch: 8, (batch_index/batches_per_epoch): 0/3, d1=0.027, d2=0.472 g=1.090\n",
            "> epoch: 8, (batch_index/batches_per_epoch): 1/3, d1=0.028, d2=0.485 g=1.149\n",
            "> epoch: 8, (batch_index/batches_per_epoch): 2/3, d1=0.018, d2=0.573 g=1.207\n",
            "> epoch: 9, (batch_index/batches_per_epoch): 0/3, d1=0.023, d2=0.681 g=1.426\n",
            "> epoch: 9, (batch_index/batches_per_epoch): 1/3, d1=0.083, d2=0.429 g=2.380\n",
            "> epoch: 9, (batch_index/batches_per_epoch): 2/3, d1=0.219, d2=0.093 g=3.063\n",
            "> epoch: 10, (batch_index/batches_per_epoch): 0/3, d1=0.193, d2=0.077 g=2.830\n",
            "> epoch: 10, (batch_index/batches_per_epoch): 1/3, d1=0.122, d2=0.091 g=2.632\n",
            "> epoch: 10, (batch_index/batches_per_epoch): 2/3, d1=0.045, d2=0.092 g=2.647\n",
            "> epoch: 11, (batch_index/batches_per_epoch): 0/3, d1=0.024, d2=0.080 g=2.766\n",
            "> epoch: 11, (batch_index/batches_per_epoch): 1/3, d1=0.013, d2=0.069 g=2.920\n",
            "> epoch: 11, (batch_index/batches_per_epoch): 2/3, d1=0.018, d2=0.059 g=3.078\n",
            "> epoch: 12, (batch_index/batches_per_epoch): 0/3, d1=0.012, d2=0.048 g=3.253\n",
            "> epoch: 12, (batch_index/batches_per_epoch): 1/3, d1=0.012, d2=0.042 g=3.462\n",
            "> epoch: 12, (batch_index/batches_per_epoch): 2/3, d1=0.011, d2=0.039 g=3.643\n",
            "> epoch: 13, (batch_index/batches_per_epoch): 0/3, d1=0.008, d2=0.058 g=3.725\n",
            "> epoch: 13, (batch_index/batches_per_epoch): 1/3, d1=0.004, d2=0.244 g=5.343\n",
            "> epoch: 13, (batch_index/batches_per_epoch): 2/3, d1=0.020, d2=0.014 g=6.962\n",
            "> epoch: 14, (batch_index/batches_per_epoch): 0/3, d1=0.083, d2=0.118 g=13.507\n",
            "> epoch: 14, (batch_index/batches_per_epoch): 1/3, d1=0.505, d2=0.008 g=2.796\n",
            "> epoch: 14, (batch_index/batches_per_epoch): 2/3, d1=0.024, d2=2.511 g=15.810\n",
            "> epoch: 15, (batch_index/batches_per_epoch): 0/3, d1=0.439, d2=0.000 g=19.743\n",
            "> epoch: 15, (batch_index/batches_per_epoch): 1/3, d1=1.643, d2=0.000 g=9.395\n",
            "> epoch: 15, (batch_index/batches_per_epoch): 2/3, d1=0.461, d2=0.010 g=4.297\n",
            "> epoch: 16, (batch_index/batches_per_epoch): 0/3, d1=0.166, d2=0.351 g=3.109\n",
            "> epoch: 16, (batch_index/batches_per_epoch): 1/3, d1=0.171, d2=0.473 g=3.656\n",
            "> epoch: 16, (batch_index/batches_per_epoch): 2/3, d1=0.372, d2=0.459 g=4.606\n",
            "> epoch: 17, (batch_index/batches_per_epoch): 0/3, d1=0.417, d2=0.157 g=5.141\n",
            "> epoch: 17, (batch_index/batches_per_epoch): 1/3, d1=0.293, d2=0.169 g=6.337\n",
            "> epoch: 17, (batch_index/batches_per_epoch): 2/3, d1=0.568, d2=0.042 g=4.786\n",
            "> epoch: 18, (batch_index/batches_per_epoch): 0/3, d1=0.338, d2=0.382 g=9.802\n",
            "> epoch: 18, (batch_index/batches_per_epoch): 1/3, d1=0.623, d2=0.000 g=10.898\n",
            "> epoch: 18, (batch_index/batches_per_epoch): 2/3, d1=0.501, d2=0.000 g=7.660\n",
            "> epoch: 19, (batch_index/batches_per_epoch): 0/3, d1=0.403, d2=0.012 g=4.112\n",
            "> epoch: 19, (batch_index/batches_per_epoch): 1/3, d1=0.130, d2=0.095 g=4.832\n",
            "> epoch: 19, (batch_index/batches_per_epoch): 2/3, d1=0.102, d2=0.009 g=5.434\n",
            "> epoch: 20, (batch_index/batches_per_epoch): 0/3, d1=0.133, d2=0.013 g=4.822\n",
            "> epoch: 20, (batch_index/batches_per_epoch): 1/3, d1=0.106, d2=0.029 g=4.459\n",
            "> epoch: 20, (batch_index/batches_per_epoch): 2/3, d1=0.097, d2=0.028 g=4.448\n",
            "> epoch: 21, (batch_index/batches_per_epoch): 0/3, d1=0.143, d2=0.038 g=4.495\n",
            "> epoch: 21, (batch_index/batches_per_epoch): 1/3, d1=0.127, d2=0.021 g=4.663\n",
            "> epoch: 21, (batch_index/batches_per_epoch): 2/3, d1=0.081, d2=0.025 g=4.538\n",
            "> epoch: 22, (batch_index/batches_per_epoch): 0/3, d1=0.061, d2=0.024 g=4.842\n",
            "> epoch: 22, (batch_index/batches_per_epoch): 1/3, d1=0.092, d2=0.020 g=4.511\n",
            "> epoch: 22, (batch_index/batches_per_epoch): 2/3, d1=0.124, d2=0.031 g=4.358\n",
            "> epoch: 23, (batch_index/batches_per_epoch): 0/3, d1=0.083, d2=0.027 g=4.488\n",
            "> epoch: 23, (batch_index/batches_per_epoch): 1/3, d1=0.043, d2=0.025 g=4.600\n",
            "> epoch: 23, (batch_index/batches_per_epoch): 2/3, d1=0.035, d2=0.016 g=4.751\n",
            "> epoch: 24, (batch_index/batches_per_epoch): 0/3, d1=0.074, d2=0.017 g=4.518\n",
            "> epoch: 24, (batch_index/batches_per_epoch): 1/3, d1=0.063, d2=0.021 g=4.204\n",
            "> epoch: 24, (batch_index/batches_per_epoch): 2/3, d1=0.043, d2=0.023 g=4.288\n",
            "> epoch: 25, (batch_index/batches_per_epoch): 0/3, d1=0.058, d2=0.027 g=4.173\n",
            "> epoch: 25, (batch_index/batches_per_epoch): 1/3, d1=0.024, d2=0.025 g=4.240\n",
            "> epoch: 25, (batch_index/batches_per_epoch): 2/3, d1=0.048, d2=0.020 g=4.158\n",
            "> epoch: 26, (batch_index/batches_per_epoch): 0/3, d1=0.055, d2=0.023 g=4.072\n",
            "> epoch: 26, (batch_index/batches_per_epoch): 1/3, d1=0.046, d2=0.026 g=4.016\n",
            "> epoch: 26, (batch_index/batches_per_epoch): 2/3, d1=0.072, d2=0.026 g=3.892\n",
            "> epoch: 27, (batch_index/batches_per_epoch): 0/3, d1=0.049, d2=0.031 g=3.853\n",
            "> epoch: 27, (batch_index/batches_per_epoch): 1/3, d1=0.015, d2=0.029 g=3.923\n",
            "> epoch: 27, (batch_index/batches_per_epoch): 2/3, d1=0.036, d2=0.034 g=3.867\n",
            "> epoch: 28, (batch_index/batches_per_epoch): 0/3, d1=0.022, d2=0.038 g=3.870\n",
            "> epoch: 28, (batch_index/batches_per_epoch): 1/3, d1=0.030, d2=0.033 g=3.935\n",
            "> epoch: 28, (batch_index/batches_per_epoch): 2/3, d1=0.030, d2=0.043 g=4.002\n",
            "> epoch: 29, (batch_index/batches_per_epoch): 0/3, d1=0.030, d2=0.058 g=4.028\n",
            "> epoch: 29, (batch_index/batches_per_epoch): 1/3, d1=0.014, d2=0.303 g=5.494\n",
            "> epoch: 29, (batch_index/batches_per_epoch): 2/3, d1=0.032, d2=0.189 g=6.346\n",
            "> epoch: 30, (batch_index/batches_per_epoch): 0/3, d1=0.206, d2=0.040 g=6.896\n",
            "> epoch: 30, (batch_index/batches_per_epoch): 1/3, d1=0.165, d2=0.035 g=6.884\n",
            "> epoch: 30, (batch_index/batches_per_epoch): 2/3, d1=0.165, d2=0.028 g=6.454\n",
            "> epoch: 31, (batch_index/batches_per_epoch): 0/3, d1=0.070, d2=0.056 g=7.376\n",
            "> epoch: 31, (batch_index/batches_per_epoch): 1/3, d1=0.233, d2=0.012 g=6.769\n",
            "> epoch: 31, (batch_index/batches_per_epoch): 2/3, d1=0.067, d2=0.018 g=6.341\n",
            "> epoch: 32, (batch_index/batches_per_epoch): 0/3, d1=0.170, d2=0.016 g=5.855\n",
            "> epoch: 32, (batch_index/batches_per_epoch): 1/3, d1=0.055, d2=0.018 g=6.034\n",
            "> epoch: 32, (batch_index/batches_per_epoch): 2/3, d1=0.044, d2=0.010 g=6.473\n",
            "> epoch: 33, (batch_index/batches_per_epoch): 0/3, d1=0.043, d2=0.009 g=6.482\n",
            "> epoch: 33, (batch_index/batches_per_epoch): 1/3, d1=0.024, d2=0.021 g=7.015\n",
            "> epoch: 33, (batch_index/batches_per_epoch): 2/3, d1=0.180, d2=0.011 g=6.305\n",
            "> epoch: 34, (batch_index/batches_per_epoch): 0/3, d1=0.013, d2=0.103 g=7.934\n",
            "> epoch: 34, (batch_index/batches_per_epoch): 1/3, d1=0.086, d2=0.080 g=8.263\n",
            "> epoch: 34, (batch_index/batches_per_epoch): 2/3, d1=0.054, d2=0.056 g=7.351\n",
            "> epoch: 35, (batch_index/batches_per_epoch): 0/3, d1=0.240, d2=0.150 g=5.354\n",
            "> epoch: 35, (batch_index/batches_per_epoch): 1/3, d1=0.337, d2=0.088 g=3.997\n",
            "> epoch: 35, (batch_index/batches_per_epoch): 2/3, d1=0.188, d2=0.120 g=3.962\n",
            "> epoch: 36, (batch_index/batches_per_epoch): 0/3, d1=0.153, d2=0.109 g=4.501\n",
            "> epoch: 36, (batch_index/batches_per_epoch): 1/3, d1=0.167, d2=0.094 g=4.518\n",
            "> epoch: 36, (batch_index/batches_per_epoch): 2/3, d1=0.253, d2=0.200 g=5.050\n",
            "> epoch: 37, (batch_index/batches_per_epoch): 0/3, d1=0.548, d2=0.304 g=5.033\n",
            "> epoch: 37, (batch_index/batches_per_epoch): 1/3, d1=0.688, d2=0.280 g=4.760\n",
            "> epoch: 37, (batch_index/batches_per_epoch): 2/3, d1=0.607, d2=0.254 g=5.053\n",
            "> epoch: 38, (batch_index/batches_per_epoch): 0/3, d1=0.273, d2=0.058 g=5.120\n",
            "> epoch: 38, (batch_index/batches_per_epoch): 1/3, d1=0.184, d2=0.068 g=4.699\n",
            "> epoch: 38, (batch_index/batches_per_epoch): 2/3, d1=0.129, d2=0.064 g=4.497\n",
            "> epoch: 39, (batch_index/batches_per_epoch): 0/3, d1=0.091, d2=0.095 g=4.531\n",
            "> epoch: 39, (batch_index/batches_per_epoch): 1/3, d1=0.076, d2=0.075 g=4.417\n",
            "> epoch: 39, (batch_index/batches_per_epoch): 2/3, d1=0.145, d2=0.070 g=3.909\n",
            "> epoch: 40, (batch_index/batches_per_epoch): 0/3, d1=0.114, d2=0.088 g=4.317\n",
            "> epoch: 40, (batch_index/batches_per_epoch): 1/3, d1=0.154, d2=0.069 g=4.569\n",
            "> epoch: 40, (batch_index/batches_per_epoch): 2/3, d1=0.181, d2=0.040 g=4.664\n",
            "> epoch: 41, (batch_index/batches_per_epoch): 0/3, d1=0.077, d2=0.035 g=5.100\n",
            "> epoch: 41, (batch_index/batches_per_epoch): 1/3, d1=0.070, d2=0.029 g=4.912\n",
            "> epoch: 41, (batch_index/batches_per_epoch): 2/3, d1=0.072, d2=0.031 g=4.876\n",
            "> epoch: 42, (batch_index/batches_per_epoch): 0/3, d1=0.096, d2=0.033 g=4.718\n",
            "> epoch: 42, (batch_index/batches_per_epoch): 1/3, d1=0.096, d2=0.036 g=4.549\n",
            "> epoch: 42, (batch_index/batches_per_epoch): 2/3, d1=0.099, d2=0.044 g=4.981\n",
            "> epoch: 43, (batch_index/batches_per_epoch): 0/3, d1=0.065, d2=0.021 g=5.111\n",
            "> epoch: 43, (batch_index/batches_per_epoch): 1/3, d1=0.044, d2=0.026 g=5.414\n",
            "> epoch: 43, (batch_index/batches_per_epoch): 2/3, d1=0.068, d2=0.021 g=5.415\n",
            "> epoch: 44, (batch_index/batches_per_epoch): 0/3, d1=0.062, d2=0.038 g=5.317\n",
            "> epoch: 44, (batch_index/batches_per_epoch): 1/3, d1=0.068, d2=0.030 g=5.710\n",
            "> epoch: 44, (batch_index/batches_per_epoch): 2/3, d1=0.034, d2=0.053 g=6.567\n",
            "> epoch: 45, (batch_index/batches_per_epoch): 0/3, d1=0.109, d2=0.017 g=5.679\n",
            "> epoch: 45, (batch_index/batches_per_epoch): 1/3, d1=0.105, d2=0.124 g=7.186\n",
            "> epoch: 45, (batch_index/batches_per_epoch): 2/3, d1=0.270, d2=0.004 g=6.693\n",
            "> epoch: 46, (batch_index/batches_per_epoch): 0/3, d1=0.124, d2=0.119 g=6.463\n",
            "> epoch: 46, (batch_index/batches_per_epoch): 1/3, d1=0.260, d2=0.010 g=6.110\n",
            "> epoch: 46, (batch_index/batches_per_epoch): 2/3, d1=0.120, d2=0.042 g=5.069\n",
            "> epoch: 47, (batch_index/batches_per_epoch): 0/3, d1=0.082, d2=0.096 g=6.453\n",
            "> epoch: 47, (batch_index/batches_per_epoch): 1/3, d1=0.143, d2=0.027 g=6.388\n",
            "> epoch: 47, (batch_index/batches_per_epoch): 2/3, d1=0.096, d2=0.033 g=6.039\n",
            "> epoch: 48, (batch_index/batches_per_epoch): 0/3, d1=0.104, d2=0.035 g=5.841\n",
            "> epoch: 48, (batch_index/batches_per_epoch): 1/3, d1=0.125, d2=0.050 g=5.737\n",
            "> epoch: 48, (batch_index/batches_per_epoch): 2/3, d1=0.058, d2=0.018 g=6.192\n",
            "> epoch: 49, (batch_index/batches_per_epoch): 0/3, d1=0.035, d2=0.011 g=6.328\n",
            "> epoch: 49, (batch_index/batches_per_epoch): 1/3, d1=0.074, d2=0.018 g=5.902\n",
            "> epoch: 49, (batch_index/batches_per_epoch): 2/3, d1=0.056, d2=0.031 g=6.079\n",
            "> epoch: 50, (batch_index/batches_per_epoch): 0/3, d1=0.082, d2=0.041 g=6.731\n",
            "> epoch: 50, (batch_index/batches_per_epoch): 1/3, d1=0.070, d2=0.017 g=6.812\n",
            "> epoch: 50, (batch_index/batches_per_epoch): 2/3, d1=0.055, d2=0.093 g=7.662\n",
            "> epoch: 51, (batch_index/batches_per_epoch): 0/3, d1=0.077, d2=0.029 g=7.796\n",
            "> epoch: 51, (batch_index/batches_per_epoch): 1/3, d1=0.062, d2=0.020 g=7.867\n",
            "> epoch: 51, (batch_index/batches_per_epoch): 2/3, d1=0.049, d2=0.036 g=8.014\n",
            "> epoch: 52, (batch_index/batches_per_epoch): 0/3, d1=0.110, d2=0.059 g=7.440\n",
            "> epoch: 52, (batch_index/batches_per_epoch): 1/3, d1=0.074, d2=0.054 g=7.990\n",
            "> epoch: 52, (batch_index/batches_per_epoch): 2/3, d1=0.114, d2=0.013 g=7.411\n",
            "> epoch: 53, (batch_index/batches_per_epoch): 0/3, d1=0.046, d2=0.039 g=7.861\n",
            "> epoch: 53, (batch_index/batches_per_epoch): 1/3, d1=0.067, d2=0.055 g=8.222\n",
            "> epoch: 53, (batch_index/batches_per_epoch): 2/3, d1=0.059, d2=0.028 g=8.309\n",
            "> epoch: 54, (batch_index/batches_per_epoch): 0/3, d1=0.039, d2=0.017 g=8.093\n",
            "> epoch: 54, (batch_index/batches_per_epoch): 1/3, d1=0.093, d2=0.044 g=7.536\n",
            "> epoch: 54, (batch_index/batches_per_epoch): 2/3, d1=0.065, d2=0.055 g=8.176\n",
            "> epoch: 55, (batch_index/batches_per_epoch): 0/3, d1=0.053, d2=0.018 g=8.025\n",
            "> epoch: 55, (batch_index/batches_per_epoch): 1/3, d1=0.060, d2=0.028 g=7.389\n",
            "> epoch: 55, (batch_index/batches_per_epoch): 2/3, d1=0.163, d2=0.057 g=6.251\n",
            "> epoch: 56, (batch_index/batches_per_epoch): 0/3, d1=0.052, d2=0.022 g=6.311\n",
            "> epoch: 56, (batch_index/batches_per_epoch): 1/3, d1=0.072, d2=0.035 g=6.249\n",
            "> epoch: 56, (batch_index/batches_per_epoch): 2/3, d1=0.068, d2=0.055 g=6.122\n",
            "> epoch: 57, (batch_index/batches_per_epoch): 0/3, d1=0.040, d2=0.174 g=8.380\n",
            "> epoch: 57, (batch_index/batches_per_epoch): 1/3, d1=0.217, d2=0.875 g=11.226\n",
            "> epoch: 57, (batch_index/batches_per_epoch): 2/3, d1=0.745, d2=0.905 g=10.934\n",
            "> epoch: 58, (batch_index/batches_per_epoch): 0/3, d1=1.817, d2=0.002 g=7.952\n",
            "> epoch: 58, (batch_index/batches_per_epoch): 1/3, d1=0.425, d2=0.164 g=4.885\n",
            "> epoch: 58, (batch_index/batches_per_epoch): 2/3, d1=0.178, d2=1.367 g=12.165\n",
            "> epoch: 59, (batch_index/batches_per_epoch): 0/3, d1=1.422, d2=0.001 g=10.658\n",
            "> epoch: 59, (batch_index/batches_per_epoch): 1/3, d1=1.362, d2=0.087 g=4.268\n",
            "> epoch: 59, (batch_index/batches_per_epoch): 2/3, d1=0.574, d2=0.667 g=4.830\n",
            "> epoch: 60, (batch_index/batches_per_epoch): 0/3, d1=0.730, d2=0.077 g=4.780\n",
            "> epoch: 60, (batch_index/batches_per_epoch): 1/3, d1=0.463, d2=0.152 g=3.708\n",
            "> epoch: 60, (batch_index/batches_per_epoch): 2/3, d1=0.512, d2=0.265 g=4.381\n",
            "> epoch: 61, (batch_index/batches_per_epoch): 0/3, d1=0.586, d2=0.068 g=3.950\n",
            "> epoch: 61, (batch_index/batches_per_epoch): 1/3, d1=0.318, d2=0.113 g=3.851\n",
            "> epoch: 61, (batch_index/batches_per_epoch): 2/3, d1=0.422, d2=0.181 g=3.784\n",
            "> epoch: 62, (batch_index/batches_per_epoch): 0/3, d1=0.478, d2=0.158 g=3.574\n",
            "> epoch: 62, (batch_index/batches_per_epoch): 1/3, d1=0.266, d2=0.118 g=3.916\n",
            "> epoch: 62, (batch_index/batches_per_epoch): 2/3, d1=0.265, d2=0.061 g=3.820\n",
            "> epoch: 63, (batch_index/batches_per_epoch): 0/3, d1=0.220, d2=0.047 g=3.752\n",
            "> epoch: 63, (batch_index/batches_per_epoch): 1/3, d1=0.231, d2=0.075 g=3.602\n",
            "> epoch: 63, (batch_index/batches_per_epoch): 2/3, d1=0.220, d2=0.062 g=3.706\n",
            "> epoch: 64, (batch_index/batches_per_epoch): 0/3, d1=0.186, d2=0.088 g=4.093\n",
            "> epoch: 64, (batch_index/batches_per_epoch): 1/3, d1=0.183, d2=0.058 g=4.119\n",
            "> epoch: 64, (batch_index/batches_per_epoch): 2/3, d1=0.133, d2=0.044 g=4.341\n",
            "> epoch: 65, (batch_index/batches_per_epoch): 0/3, d1=0.176, d2=0.059 g=4.095\n",
            "> epoch: 65, (batch_index/batches_per_epoch): 1/3, d1=0.229, d2=0.059 g=4.063\n",
            "> epoch: 65, (batch_index/batches_per_epoch): 2/3, d1=0.110, d2=0.055 g=4.197\n",
            "> epoch: 66, (batch_index/batches_per_epoch): 0/3, d1=0.139, d2=0.053 g=4.327\n",
            "> epoch: 66, (batch_index/batches_per_epoch): 1/3, d1=0.128, d2=0.045 g=4.231\n",
            "> epoch: 66, (batch_index/batches_per_epoch): 2/3, d1=0.156, d2=0.055 g=4.042\n",
            "> epoch: 67, (batch_index/batches_per_epoch): 0/3, d1=0.165, d2=0.142 g=4.451\n",
            "> epoch: 67, (batch_index/batches_per_epoch): 1/3, d1=0.121, d2=0.075 g=4.734\n",
            "> epoch: 67, (batch_index/batches_per_epoch): 2/3, d1=0.249, d2=0.140 g=5.258\n",
            "> epoch: 68, (batch_index/batches_per_epoch): 0/3, d1=0.194, d2=0.112 g=6.464\n",
            "> epoch: 68, (batch_index/batches_per_epoch): 1/3, d1=0.359, d2=0.170 g=8.211\n",
            "> epoch: 68, (batch_index/batches_per_epoch): 2/3, d1=0.416, d2=0.008 g=7.611\n",
            "> epoch: 69, (batch_index/batches_per_epoch): 0/3, d1=0.325, d2=0.111 g=6.673\n",
            "> epoch: 69, (batch_index/batches_per_epoch): 1/3, d1=0.213, d2=0.081 g=8.004\n",
            "> epoch: 69, (batch_index/batches_per_epoch): 2/3, d1=0.158, d2=0.033 g=8.040\n",
            "> epoch: 70, (batch_index/batches_per_epoch): 0/3, d1=0.191, d2=0.031 g=7.072\n",
            "> epoch: 70, (batch_index/batches_per_epoch): 1/3, d1=0.136, d2=0.100 g=7.571\n",
            "> epoch: 70, (batch_index/batches_per_epoch): 2/3, d1=0.129, d2=0.058 g=7.841\n",
            "> epoch: 71, (batch_index/batches_per_epoch): 0/3, d1=0.179, d2=0.042 g=6.634\n",
            "> epoch: 71, (batch_index/batches_per_epoch): 1/3, d1=0.158, d2=0.082 g=6.607\n",
            "> epoch: 71, (batch_index/batches_per_epoch): 2/3, d1=0.128, d2=0.075 g=7.872\n",
            "> epoch: 72, (batch_index/batches_per_epoch): 0/3, d1=0.129, d2=0.047 g=7.669\n",
            "> epoch: 72, (batch_index/batches_per_epoch): 1/3, d1=0.150, d2=0.087 g=7.138\n",
            "> epoch: 72, (batch_index/batches_per_epoch): 2/3, d1=0.119, d2=0.057 g=7.603\n",
            "> epoch: 73, (batch_index/batches_per_epoch): 0/3, d1=0.104, d2=0.050 g=7.980\n",
            "> epoch: 73, (batch_index/batches_per_epoch): 1/3, d1=0.180, d2=0.084 g=7.959\n",
            "> epoch: 73, (batch_index/batches_per_epoch): 2/3, d1=0.119, d2=0.099 g=8.744\n",
            "> epoch: 74, (batch_index/batches_per_epoch): 0/3, d1=0.160, d2=0.065 g=8.121\n",
            "> epoch: 74, (batch_index/batches_per_epoch): 1/3, d1=0.087, d2=0.110 g=9.227\n",
            "> epoch: 74, (batch_index/batches_per_epoch): 2/3, d1=0.100, d2=0.024 g=9.223\n",
            "> epoch: 75, (batch_index/batches_per_epoch): 0/3, d1=0.111, d2=0.056 g=8.499\n",
            "> epoch: 75, (batch_index/batches_per_epoch): 1/3, d1=0.054, d2=0.061 g=8.353\n",
            "> epoch: 75, (batch_index/batches_per_epoch): 2/3, d1=0.095, d2=0.125 g=7.997\n",
            "> epoch: 76, (batch_index/batches_per_epoch): 0/3, d1=0.098, d2=0.134 g=8.679\n",
            "> epoch: 76, (batch_index/batches_per_epoch): 1/3, d1=0.178, d2=0.100 g=6.881\n",
            "> epoch: 76, (batch_index/batches_per_epoch): 2/3, d1=0.206, d2=0.089 g=5.061\n",
            "> epoch: 77, (batch_index/batches_per_epoch): 0/3, d1=0.136, d2=0.098 g=5.423\n",
            "> epoch: 77, (batch_index/batches_per_epoch): 1/3, d1=0.077, d2=0.073 g=5.619\n",
            "> epoch: 77, (batch_index/batches_per_epoch): 2/3, d1=0.123, d2=0.069 g=5.994\n",
            "> epoch: 78, (batch_index/batches_per_epoch): 0/3, d1=0.091, d2=0.043 g=5.634\n",
            "> epoch: 78, (batch_index/batches_per_epoch): 1/3, d1=0.113, d2=0.067 g=5.368\n",
            "> epoch: 78, (batch_index/batches_per_epoch): 2/3, d1=0.103, d2=0.094 g=5.655\n",
            "> epoch: 79, (batch_index/batches_per_epoch): 0/3, d1=0.090, d2=0.057 g=6.179\n",
            "> epoch: 79, (batch_index/batches_per_epoch): 1/3, d1=0.100, d2=0.020 g=5.564\n",
            "> epoch: 79, (batch_index/batches_per_epoch): 2/3, d1=0.106, d2=0.056 g=5.738\n",
            "> epoch: 80, (batch_index/batches_per_epoch): 0/3, d1=0.094, d2=0.081 g=5.869\n",
            "> epoch: 80, (batch_index/batches_per_epoch): 1/3, d1=0.158, d2=0.046 g=5.901\n",
            "> epoch: 80, (batch_index/batches_per_epoch): 2/3, d1=0.160, d2=0.042 g=5.520\n",
            "> epoch: 81, (batch_index/batches_per_epoch): 0/3, d1=0.075, d2=0.080 g=6.074\n",
            "> epoch: 81, (batch_index/batches_per_epoch): 1/3, d1=0.106, d2=0.068 g=6.899\n",
            "> epoch: 81, (batch_index/batches_per_epoch): 2/3, d1=0.125, d2=0.015 g=6.573\n",
            "> epoch: 82, (batch_index/batches_per_epoch): 0/3, d1=0.049, d2=0.036 g=6.727\n",
            "> epoch: 82, (batch_index/batches_per_epoch): 1/3, d1=0.065, d2=0.015 g=6.288\n",
            "> epoch: 82, (batch_index/batches_per_epoch): 2/3, d1=0.091, d2=0.037 g=6.185\n",
            "> epoch: 83, (batch_index/batches_per_epoch): 0/3, d1=0.038, d2=0.017 g=6.276\n",
            "> epoch: 83, (batch_index/batches_per_epoch): 1/3, d1=0.046, d2=0.012 g=6.189\n",
            "> epoch: 83, (batch_index/batches_per_epoch): 2/3, d1=0.054, d2=0.029 g=6.168\n",
            "> epoch: 84, (batch_index/batches_per_epoch): 0/3, d1=0.026, d2=0.047 g=7.032\n",
            "> epoch: 84, (batch_index/batches_per_epoch): 1/3, d1=0.033, d2=0.013 g=7.241\n",
            "> epoch: 84, (batch_index/batches_per_epoch): 2/3, d1=0.055, d2=0.011 g=6.988\n",
            "> epoch: 85, (batch_index/batches_per_epoch): 0/3, d1=0.052, d2=0.040 g=6.456\n",
            "> epoch: 85, (batch_index/batches_per_epoch): 1/3, d1=0.038, d2=0.019 g=6.475\n",
            "> epoch: 85, (batch_index/batches_per_epoch): 2/3, d1=0.042, d2=0.036 g=6.440\n",
            "> epoch: 86, (batch_index/batches_per_epoch): 0/3, d1=0.051, d2=0.023 g=6.727\n",
            "> epoch: 86, (batch_index/batches_per_epoch): 1/3, d1=0.039, d2=0.038 g=6.976\n",
            "> epoch: 86, (batch_index/batches_per_epoch): 2/3, d1=0.067, d2=0.018 g=6.804\n",
            "> epoch: 87, (batch_index/batches_per_epoch): 0/3, d1=0.078, d2=0.081 g=7.157\n",
            "> epoch: 87, (batch_index/batches_per_epoch): 1/3, d1=0.054, d2=0.027 g=7.345\n",
            "> epoch: 87, (batch_index/batches_per_epoch): 2/3, d1=0.054, d2=0.033 g=6.501\n",
            "> epoch: 88, (batch_index/batches_per_epoch): 0/3, d1=0.064, d2=0.035 g=6.452\n",
            "> epoch: 88, (batch_index/batches_per_epoch): 1/3, d1=0.030, d2=0.070 g=7.422\n",
            "> epoch: 88, (batch_index/batches_per_epoch): 2/3, d1=0.093, d2=0.015 g=7.928\n",
            "> epoch: 89, (batch_index/batches_per_epoch): 0/3, d1=0.082, d2=0.017 g=6.903\n",
            "> epoch: 89, (batch_index/batches_per_epoch): 1/3, d1=0.042, d2=0.043 g=7.002\n",
            "> epoch: 89, (batch_index/batches_per_epoch): 2/3, d1=0.035, d2=0.017 g=7.328\n",
            "> epoch: 90, (batch_index/batches_per_epoch): 0/3, d1=0.054, d2=0.008 g=7.238\n",
            "> epoch: 90, (batch_index/batches_per_epoch): 1/3, d1=0.026, d2=0.031 g=7.207\n",
            "> epoch: 90, (batch_index/batches_per_epoch): 2/3, d1=0.058, d2=0.013 g=6.710\n",
            "> epoch: 91, (batch_index/batches_per_epoch): 0/3, d1=0.016, d2=0.025 g=7.297\n",
            "> epoch: 91, (batch_index/batches_per_epoch): 1/3, d1=0.033, d2=0.034 g=7.289\n",
            "> epoch: 91, (batch_index/batches_per_epoch): 2/3, d1=0.032, d2=0.028 g=7.679\n",
            "> epoch: 92, (batch_index/batches_per_epoch): 0/3, d1=0.036, d2=0.030 g=7.987\n",
            "> epoch: 92, (batch_index/batches_per_epoch): 1/3, d1=0.049, d2=0.006 g=7.550\n",
            "> epoch: 92, (batch_index/batches_per_epoch): 2/3, d1=0.027, d2=0.010 g=7.131\n",
            "> epoch: 93, (batch_index/batches_per_epoch): 0/3, d1=0.033, d2=0.012 g=6.972\n",
            "> epoch: 93, (batch_index/batches_per_epoch): 1/3, d1=0.026, d2=0.026 g=7.457\n",
            "> epoch: 93, (batch_index/batches_per_epoch): 2/3, d1=0.016, d2=0.011 g=7.856\n",
            "> epoch: 94, (batch_index/batches_per_epoch): 0/3, d1=0.036, d2=0.024 g=7.890\n",
            "> epoch: 94, (batch_index/batches_per_epoch): 1/3, d1=0.053, d2=0.021 g=7.568\n",
            "> epoch: 94, (batch_index/batches_per_epoch): 2/3, d1=0.026, d2=0.022 g=7.874\n",
            "> epoch: 95, (batch_index/batches_per_epoch): 0/3, d1=0.064, d2=0.112 g=7.303\n",
            "> epoch: 95, (batch_index/batches_per_epoch): 1/3, d1=0.040, d2=0.490 g=9.957\n",
            "> epoch: 95, (batch_index/batches_per_epoch): 2/3, d1=0.310, d2=0.596 g=14.157\n",
            "> epoch: 96, (batch_index/batches_per_epoch): 0/3, d1=1.489, d2=0.544 g=8.733\n",
            "> epoch: 96, (batch_index/batches_per_epoch): 1/3, d1=0.296, d2=0.076 g=7.236\n",
            "> epoch: 96, (batch_index/batches_per_epoch): 2/3, d1=0.160, d2=0.224 g=7.117\n",
            "> epoch: 97, (batch_index/batches_per_epoch): 0/3, d1=0.139, d2=0.134 g=6.708\n",
            "> epoch: 97, (batch_index/batches_per_epoch): 1/3, d1=0.142, d2=0.094 g=6.645\n",
            "> epoch: 97, (batch_index/batches_per_epoch): 2/3, d1=0.179, d2=0.090 g=6.316\n",
            "> epoch: 98, (batch_index/batches_per_epoch): 0/3, d1=0.087, d2=0.063 g=6.751\n",
            "> epoch: 98, (batch_index/batches_per_epoch): 1/3, d1=0.054, d2=0.036 g=6.478\n",
            "> epoch: 98, (batch_index/batches_per_epoch): 2/3, d1=0.049, d2=0.031 g=6.816\n",
            "> epoch: 99, (batch_index/batches_per_epoch): 0/3, d1=0.045, d2=0.035 g=7.190\n",
            "> epoch: 99, (batch_index/batches_per_epoch): 1/3, d1=0.071, d2=0.033 g=6.961\n",
            "> epoch: 99, (batch_index/batches_per_epoch): 2/3, d1=0.076, d2=0.110 g=7.877\n",
            "> epoch: 100, (batch_index/batches_per_epoch): 0/3, d1=0.058, d2=0.057 g=8.426\n",
            "> epoch: 100, (batch_index/batches_per_epoch): 1/3, d1=0.068, d2=0.096 g=8.497\n",
            "> epoch: 100, (batch_index/batches_per_epoch): 2/3, d1=0.063, d2=0.028 g=8.801\n"
          ],
          "name": "stdout"
        }
      ]
    },
    {
      "cell_type": "code",
      "metadata": {
        "id": "BP7GlvCQ7FFw",
        "colab_type": "code",
        "colab": {}
      },
      "source": [
        "def display_image_result(results, n):\n",
        "  for i in range(n*n):\n",
        "    pyplot.subplot(n, n, 1+i)\n",
        "    pyplot.axis('off')\n",
        "    pyplot.imshow(results[i,:,:,0])\n",
        "  pyplot.show()"
      ],
      "execution_count": 0,
      "outputs": []
    },
    {
      "cell_type": "code",
      "metadata": {
        "id": "oSTa9Ue372P4",
        "colab_type": "code",
        "colab": {
          "base_uri": "https://localhost:8080/",
          "height": 248
        },
        "outputId": "34fa03dc-9ac2-45d7-99d1-3e0393cc6942"
      },
      "source": [
        "model = generator_model\n",
        "\n",
        "noise, _ = generate_noise(100,100)\n",
        "attributes = []\n",
        "\n",
        "for i in range(0,100):\n",
        "  attributes.append([-1,1,-1,-1,-1,1,1,1,1,-1,1,-1,1,-1,1,-1,-1,1,1,-1, -1,1,1,1,1,1,1,1,-1,-1,-1,1,1,-1,-1,-1,-1,-1,-1,-1])\n",
        "\n",
        "X = model.predict([np.array(noise), np.array(attributes)])\n",
        "X = (X+1)/2.0\n",
        "display_image_result(X,3)"
      ],
      "execution_count": 37,
      "outputs": [
        {
          "output_type": "display_data",
          "data": {
            "image/png": "[encoded data removed]",
            "text/plain": [
              "<Figure size 432x288 with 9 Axes>"
            ]
          },
          "metadata": {
            "tags": [],
            "needs_background": "light"
          }
        }
      ]
    },
    {
      "cell_type": "code",
      "metadata": {
        "id": "MN7JuocswSza",
        "colab_type": "code",
        "colab": {}
      },
      "source": [
        "torch.cuda.is_available()"
      ],
      "execution_count": 0,
      "outputs": []
    }
  ]
}